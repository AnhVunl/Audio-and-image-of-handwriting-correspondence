{
 "cells": [
  {
   "cell_type": "code",
   "execution_count": 1,
   "metadata": {},
   "outputs": [],
   "source": [
    "# Import some packages\n",
    "import numpy as np\n",
    "import pandas as pd\n",
    "from sklearn.preprocessing import scale\n",
    "from sklearn.preprocessing import StandardScaler\n",
    "from sklearn.decomposition import PCA\n",
    "from sklearn.model_selection import train_test_split\n",
    "import tensorflow\n",
    "from tensorflow.keras.models import Sequential\n",
    "from tensorflow.keras.layers import Dense, Dropout, Activation\n",
    "from tensorflow.keras.optimizers import Adam\n",
    "from tensorflow.keras.layers import BatchNormalization\n",
    "from tensorflow.keras.layers import LeakyReLU\n",
    "from tensorflow.keras import regularizers\n",
    "from tensorflow.keras.utils import to_categorical\n",
    "from tensorflow.keras.callbacks import EarlyStopping, ModelCheckpoint\n",
    "from sklearn.metrics import recall_score\n",
    "from sklearn.metrics import precision_score\n",
    "import matplotlib.pyplot as plt\n",
    "\n",
    "np.random.seed(0)"
   ]
  },
  {
   "cell_type": "code",
   "execution_count": 2,
   "metadata": {},
   "outputs": [],
   "source": [
    "#upload the data \n",
    "audio = np.load('spoken_train.npy')\n",
    "audio_test = np.load('spoken_test.npy') \n",
    "written = np.load('written_train.npy')\n",
    "match_train = np.load('match_train.npy') \n",
    "written_test = np.load('written_test.npy')"
   ]
  },
  {
   "cell_type": "markdown",
   "metadata": {},
   "source": [
    "# Feature engineering"
   ]
  },
  {
   "cell_type": "code",
   "execution_count": 3,
   "metadata": {},
   "outputs": [],
   "source": [
    "# scale the features for the images \n",
    "written = written / 255 "
   ]
  },
  {
   "cell_type": "code",
   "execution_count": 4,
   "metadata": {},
   "outputs": [
    {
     "name": "stdout",
     "output_type": "stream",
     "text": [
      "For 5 components variance is equal to 0.33191030457929505\n",
      "For 10 components variance is equal to 0.4877978406990218\n",
      "For 15 components variance is equal to 0.5787844404286125\n",
      "For 20 components variance is equal to 0.6429178380139132\n",
      "For 25 components variance is equal to 0.6910824830514285\n",
      "For 30 components variance is equal to 0.7298301652366115\n",
      "For 35 components variance is equal to 0.7604346578718179\n",
      "For 40 components variance is equal to 0.7853729848646123\n",
      "For 50 components variance is equal to 0.823968732898441\n",
      "For 60 components variance is equal to 0.8519698434451212\n",
      "For 70 components variance is equal to 0.8733386481648396\n",
      "For 80 components variance is equal to 0.8895525860805874\n"
     ]
    }
   ],
   "source": [
    "#Find the optimal number of componets for dimensionality reduction for images \n",
    "for n_comp in [5, 10, 15, 20, 25, 30, 35, 40, 50, 60, 70, 80]:\n",
    "    pca_wr = PCA(n_components = n_comp, random_state = 811)\n",
    "    pca_wr.fit(written)\n",
    "    pca_wr.transform(written)\n",
    "    print(\"For {} components variance is equal to {}\".format(n_comp, np.sum(pca_wr.explained_variance_ratio_)))"
   ]
  },
  {
   "cell_type": "code",
   "execution_count": 5,
   "metadata": {},
   "outputs": [
    {
     "data": {
      "image/png": "[encoded data removed]",
      "text/plain": [
       "<Figure size 432x288 with 1 Axes>"
      ]
     },
     "metadata": {
      "needs_background": "light"
     },
     "output_type": "display_data"
    }
   ],
   "source": [
    "#PCA for images \n",
    "pca_wr = PCA(n_components = 50, random_state = 811)\n",
    "pca_wr.fit(written)\n",
    "pca_written = pca_wr.transform(written)  \n",
    "\n",
    "plt.plot(np.cumsum(pca_wr.explained_variance_ratio_))\n",
    "plt.xlabel('number of components')\n",
    "plt.ylabel('cumulative explained variance')\n",
    "plt.show()"
   ]
  },
  {
   "cell_type": "code",
   "execution_count": 6,
   "metadata": {},
   "outputs": [],
   "source": [
    "##Calculate mean,standard deviation, maximum, minimum per feature (out of the 13), per observation.\n",
    "def audio_features (spoken, functions):\n",
    "    return np.concatenate([np.array([function(i, axis = 0) for i in spoken]) for function in functions], axis = 1)\n",
    "\n",
    "summaries = [np.mean, np.max, np.min, np.std]\n",
    "audio_f = audio_features(audio, summaries)"
   ]
  },
  {
   "cell_type": "code",
   "execution_count": 7,
   "metadata": {},
   "outputs": [
    {
     "data": {
      "text/plain": [
       "(45000, 102)"
      ]
     },
     "execution_count": 7,
     "metadata": {},
     "output_type": "execute_result"
    }
   ],
   "source": [
    "#merge written and audio data\n",
    "both = np.hstack((pca_written, audio_f))\n",
    "both.shape"
   ]
  },
  {
   "cell_type": "code",
   "execution_count": 8,
   "metadata": {},
   "outputs": [
    {
     "data": {
      "text/plain": [
       "(45000, 102)"
      ]
     },
     "execution_count": 8,
     "metadata": {},
     "output_type": "execute_result"
    }
   ],
   "source": [
    "#scale the data \n",
    "scaler = StandardScaler()\n",
    "final = scaler.fit_transform(both)\n",
    "final.shape"
   ]
  },
  {
   "cell_type": "markdown",
   "metadata": {},
   "source": [
    "# Model"
   ]
  },
  {
   "cell_type": "code",
   "execution_count": 9,
   "metadata": {},
   "outputs": [],
   "source": [
    "#split the data \n",
    "X_train, X_val, y_train, y_val = train_test_split(final, match_train, test_size = 0.1, random_state = 811)"
   ]
  },
  {
   "cell_type": "code",
   "execution_count": 10,
   "metadata": {},
   "outputs": [
    {
     "name": "stdout",
     "output_type": "stream",
     "text": [
      "(40500, 102)\n",
      "(40500, 2)\n"
     ]
    }
   ],
   "source": [
    "#convert Y into categorical variable\n",
    "y_train = to_categorical(y_train)\n",
    "y_val   = to_categorical(y_val)\n",
    "print(X_train.shape)\n",
    "print(y_train.shape)"
   ]
  },
  {
   "cell_type": "code",
   "execution_count": 11,
   "metadata": {},
   "outputs": [],
   "source": [
    "#Define callbacks\n",
    "callbacks = [EarlyStopping(monitor='val_loss', patience= 100),\n",
    "             ModelCheckpoint(filepath='best_model.h5', monitor='val_loss', save_best_only=True)]"
   ]
  },
  {
   "cell_type": "code",
   "execution_count": 12,
   "metadata": {},
   "outputs": [],
   "source": [
    "#Define the model\n",
    "def make_model(n_features):\n",
    "    model = Sequential()\n",
    "    optimizer = Adam(lr = 0.001)\n",
    "    \n",
    "    model.add(Dense(500, input_shape=(final.shape[1],),\n",
    "              kernel_initializer= 'glorot_normal'))\n",
    "    model.add(LeakyReLU(alpha=0.3))\n",
    "    model.add(BatchNormalization())\n",
    "    model.add(Dropout(0.2))\n",
    "    \n",
    "    model.add(Dense(400, kernel_initializer= 'glorot_uniform'))\n",
    "    model.add(LeakyReLU(alpha=0.01)) \n",
    "    model.add(BatchNormalization())\n",
    "    model.add(Dropout(0.2))\n",
    "    \n",
    "    model.add(Dense(300, kernel_initializer= 'glorot_uniform'))\n",
    "    model.add(LeakyReLU(alpha=0.01))\n",
    "    model.add(BatchNormalization())\n",
    "    model.add(Dropout(0.1))\n",
    "    \n",
    "    model.add(Dense(200, kernel_initializer= 'glorot_normal'))\n",
    "    model.add(Activation('relu'))\n",
    "    model.add(BatchNormalization())\n",
    "    model.add(Dropout(0.1))\n",
    "    \n",
    "    model.add(Dense(2, activation='sigmoid'))\n",
    "    \n",
    "    model.compile(loss='binary_crossentropy',\n",
    "                  optimizer= optimizer,\n",
    "                  metrics=['accuracy'])\n",
    "\n",
    "    return model"
   ]
  },
  {
   "cell_type": "code",
   "execution_count": 13,
   "metadata": {
    "scrolled": true
   },
   "outputs": [
    {
     "name": "stdout",
     "output_type": "stream",
     "text": [
      "Train on 40500 samples, validate on 4500 samples\n",
      "Epoch 1/200\n",
      "40500/40500 [==============================] - 7s 175us/sample - loss: 0.3358 - accuracy: 0.8667 - val_loss: 0.2111 - val_accuracy: 0.9236\n",
      "Epoch 2/200\n",
      "40500/40500 [==============================] - 6s 151us/sample - loss: 0.1987 - accuracy: 0.9235 - val_loss: 0.1586 - val_accuracy: 0.9410\n",
      "Epoch 3/200\n",
      "40500/40500 [==============================] - 5s 119us/sample - loss: 0.1618 - accuracy: 0.9372 - val_loss: 0.1499 - val_accuracy: 0.9444\n",
      "Epoch 4/200\n",
      "40500/40500 [==============================] - 5s 116us/sample - loss: 0.1387 - accuracy: 0.9465 - val_loss: 0.1300 - val_accuracy: 0.9494\n",
      "Epoch 5/200\n",
      "40500/40500 [==============================] - 5s 124us/sample - loss: 0.1260 - accuracy: 0.9520 - val_loss: 0.1293 - val_accuracy: 0.9539\n",
      "Epoch 6/200\n",
      "40500/40500 [==============================] - 5s 135us/sample - loss: 0.1137 - accuracy: 0.9557 - val_loss: 0.1227 - val_accuracy: 0.9586\n",
      "Epoch 7/200\n",
      "40500/40500 [==============================] - 6s 146us/sample - loss: 0.1054 - accuracy: 0.9596 - val_loss: 0.1044 - val_accuracy: 0.9649\n",
      "Epoch 8/200\n",
      "40500/40500 [==============================] - 6s 138us/sample - loss: 0.0961 - accuracy: 0.9632 - val_loss: 0.1122 - val_accuracy: 0.9626\n",
      "Epoch 9/200\n",
      "40500/40500 [==============================] - 5s 120us/sample - loss: 0.0904 - accuracy: 0.9659 - val_loss: 0.0981 - val_accuracy: 0.9669\n",
      "Epoch 10/200\n",
      "40500/40500 [==============================] - 5s 117us/sample - loss: 0.0804 - accuracy: 0.9691 - val_loss: 0.1038 - val_accuracy: 0.9622\n",
      "Epoch 11/200\n",
      "40500/40500 [==============================] - 5s 125us/sample - loss: 0.0773 - accuracy: 0.9706 - val_loss: 0.1016 - val_accuracy: 0.9652\n",
      "Epoch 12/200\n",
      "40500/40500 [==============================] - 5s 114us/sample - loss: 0.0738 - accuracy: 0.9719 - val_loss: 0.0974 - val_accuracy: 0.9672\n",
      "Epoch 13/200\n",
      "40500/40500 [==============================] - 6s 143us/sample - loss: 0.0689 - accuracy: 0.9739 - val_loss: 0.0941 - val_accuracy: 0.9700\n",
      "Epoch 14/200\n",
      "40500/40500 [==============================] - 5s 133us/sample - loss: 0.0648 - accuracy: 0.9759 - val_loss: 0.1039 - val_accuracy: 0.9667\n",
      "Epoch 15/200\n",
      "40500/40500 [==============================] - 5s 130us/sample - loss: 0.0575 - accuracy: 0.9778 - val_loss: 0.1028 - val_accuracy: 0.9658\n",
      "Epoch 16/200\n",
      "40500/40500 [==============================] - 5s 130us/sample - loss: 0.0565 - accuracy: 0.9785 - val_loss: 0.0929 - val_accuracy: 0.9699\n",
      "Epoch 17/200\n",
      "40500/40500 [==============================] - 5s 125us/sample - loss: 0.0556 - accuracy: 0.9792 - val_loss: 0.0936 - val_accuracy: 0.9742\n",
      "Epoch 18/200\n",
      "40500/40500 [==============================] - 5s 125us/sample - loss: 0.0508 - accuracy: 0.9812 - val_loss: 0.0957 - val_accuracy: 0.9707\n",
      "Epoch 19/200\n",
      "40500/40500 [==============================] - 5s 123us/sample - loss: 0.0490 - accuracy: 0.9817 - val_loss: 0.0973 - val_accuracy: 0.9703\n",
      "Epoch 20/200\n",
      "40500/40500 [==============================] - 5s 131us/sample - loss: 0.0471 - accuracy: 0.9828 - val_loss: 0.1049 - val_accuracy: 0.9717\n",
      "Epoch 21/200\n",
      "40500/40500 [==============================] - 5s 129us/sample - loss: 0.0451 - accuracy: 0.9833 - val_loss: 0.0979 - val_accuracy: 0.9698\n",
      "Epoch 22/200\n",
      "40500/40500 [==============================] - 5s 125us/sample - loss: 0.0443 - accuracy: 0.9836 - val_loss: 0.0939 - val_accuracy: 0.9702\n",
      "Epoch 23/200\n",
      "40500/40500 [==============================] - 5s 120us/sample - loss: 0.0423 - accuracy: 0.9834 - val_loss: 0.0976 - val_accuracy: 0.9689\n",
      "Epoch 24/200\n",
      "40500/40500 [==============================] - 5s 122us/sample - loss: 0.0419 - accuracy: 0.9847 - val_loss: 0.0973 - val_accuracy: 0.9700\n",
      "Epoch 25/200\n",
      "40500/40500 [==============================] - 5s 128us/sample - loss: 0.0389 - accuracy: 0.9857 - val_loss: 0.0915 - val_accuracy: 0.9704\n",
      "Epoch 26/200\n",
      "40500/40500 [==============================] - 5s 116us/sample - loss: 0.0381 - accuracy: 0.9856 - val_loss: 0.0992 - val_accuracy: 0.9712\n",
      "Epoch 27/200\n",
      "40500/40500 [==============================] - 5s 113us/sample - loss: 0.0377 - accuracy: 0.9864 - val_loss: 0.0987 - val_accuracy: 0.9741\n",
      "Epoch 28/200\n",
      "40500/40500 [==============================] - 5s 120us/sample - loss: 0.0361 - accuracy: 0.9869 - val_loss: 0.0977 - val_accuracy: 0.9728\n",
      "Epoch 29/200\n",
      "40500/40500 [==============================] - 5s 115us/sample - loss: 0.0350 - accuracy: 0.9873 - val_loss: 0.0928 - val_accuracy: 0.9731\n",
      "Epoch 30/200\n",
      "40500/40500 [==============================] - 6s 138us/sample - loss: 0.0324 - accuracy: 0.9885 - val_loss: 0.0956 - val_accuracy: 0.9736\n",
      "Epoch 31/200\n",
      "40500/40500 [==============================] - 8s 187us/sample - loss: 0.0325 - accuracy: 0.9880 - val_loss: 0.0943 - val_accuracy: 0.9731\n",
      "Epoch 32/200\n",
      "40500/40500 [==============================] - 8s 190us/sample - loss: 0.0344 - accuracy: 0.9879 - val_loss: 0.0925 - val_accuracy: 0.9751\n",
      "Epoch 33/200\n",
      "40500/40500 [==============================] - 5s 127us/sample - loss: 0.0304 - accuracy: 0.9886 - val_loss: 0.0996 - val_accuracy: 0.9744\n",
      "Epoch 34/200\n",
      "40500/40500 [==============================] - 5s 116us/sample - loss: 0.0294 - accuracy: 0.9897 - val_loss: 0.0984 - val_accuracy: 0.9742\n",
      "Epoch 35/200\n",
      "40500/40500 [==============================] - 5s 117us/sample - loss: 0.0286 - accuracy: 0.9903 - val_loss: 0.1070 - val_accuracy: 0.9731\n",
      "Epoch 36/200\n",
      "40500/40500 [==============================] - 5s 121us/sample - loss: 0.0326 - accuracy: 0.9880 - val_loss: 0.0863 - val_accuracy: 0.9762\n",
      "Epoch 37/200\n",
      "40500/40500 [==============================] - 5s 117us/sample - loss: 0.0274 - accuracy: 0.9902 - val_loss: 0.0822 - val_accuracy: 0.9778\n",
      "Epoch 38/200\n",
      "40500/40500 [==============================] - 5s 122us/sample - loss: 0.0275 - accuracy: 0.9899 - val_loss: 0.0828 - val_accuracy: 0.9786\n",
      "Epoch 39/200\n",
      "40500/40500 [==============================] - 5s 125us/sample - loss: 0.0274 - accuracy: 0.9902 - val_loss: 0.1034 - val_accuracy: 0.9727\n",
      "Epoch 40/200\n",
      "40500/40500 [==============================] - 5s 125us/sample - loss: 0.0287 - accuracy: 0.9891 - val_loss: 0.0914 - val_accuracy: 0.9767\n",
      "Epoch 41/200\n",
      "40500/40500 [==============================] - 5s 118us/sample - loss: 0.0273 - accuracy: 0.9903 - val_loss: 0.0908 - val_accuracy: 0.9753\n",
      "Epoch 42/200\n",
      "40500/40500 [==============================] - 5s 124us/sample - loss: 0.0261 - accuracy: 0.9901 - val_loss: 0.0932 - val_accuracy: 0.9764\n",
      "Epoch 43/200\n",
      "40500/40500 [==============================] - 5s 122us/sample - loss: 0.0253 - accuracy: 0.9909 - val_loss: 0.0922 - val_accuracy: 0.9774\n",
      "Epoch 44/200\n",
      "40500/40500 [==============================] - 5s 122us/sample - loss: 0.0227 - accuracy: 0.9921 - val_loss: 0.0983 - val_accuracy: 0.9744\n",
      "Epoch 45/200\n",
      "40500/40500 [==============================] - 4s 109us/sample - loss: 0.0272 - accuracy: 0.9905 - val_loss: 0.0919 - val_accuracy: 0.9778\n",
      "Epoch 46/200\n",
      "40500/40500 [==============================] - 5s 123us/sample - loss: 0.0225 - accuracy: 0.9919 - val_loss: 0.0940 - val_accuracy: 0.9789\n",
      "Epoch 47/200\n",
      "40500/40500 [==============================] - 6s 136us/sample - loss: 0.0233 - accuracy: 0.9917 - val_loss: 0.0949 - val_accuracy: 0.9739\n",
      "Epoch 48/200\n",
      "40500/40500 [==============================] - 6s 138us/sample - loss: 0.0269 - accuracy: 0.9905 - val_loss: 0.0927 - val_accuracy: 0.9731\n",
      "Epoch 49/200\n",
      "40500/40500 [==============================] - 5s 123us/sample - loss: 0.0242 - accuracy: 0.9918 - val_loss: 0.1020 - val_accuracy: 0.9722\n",
      "Epoch 50/200\n",
      "40500/40500 [==============================] - 5s 131us/sample - loss: 0.0219 - accuracy: 0.9925 - val_loss: 0.0969 - val_accuracy: 0.9769\n",
      "Epoch 51/200\n",
      "40500/40500 [==============================] - 5s 118us/sample - loss: 0.0221 - accuracy: 0.9919 - val_loss: 0.1010 - val_accuracy: 0.9747\n",
      "Epoch 52/200\n",
      "40500/40500 [==============================] - 5s 124us/sample - loss: 0.0223 - accuracy: 0.9919 - val_loss: 0.1059 - val_accuracy: 0.9733\n",
      "Epoch 53/200\n",
      "40500/40500 [==============================] - 6s 137us/sample - loss: 0.0241 - accuracy: 0.9915 - val_loss: 0.1082 - val_accuracy: 0.9736\n",
      "Epoch 54/200\n",
      "40500/40500 [==============================] - 6s 152us/sample - loss: 0.0222 - accuracy: 0.9924 - val_loss: 0.0942 - val_accuracy: 0.9761\n",
      "Epoch 55/200\n",
      "40500/40500 [==============================] - 5s 135us/sample - loss: 0.0204 - accuracy: 0.9929 - val_loss: 0.1079 - val_accuracy: 0.9729\n",
      "Epoch 56/200\n",
      "40500/40500 [==============================] - 5s 120us/sample - loss: 0.0214 - accuracy: 0.9924 - val_loss: 0.0831 - val_accuracy: 0.9782\n",
      "Epoch 57/200\n",
      "40500/40500 [==============================] - 4s 111us/sample - loss: 0.0211 - accuracy: 0.9923 - val_loss: 0.0907 - val_accuracy: 0.9759\n",
      "Epoch 58/200\n",
      "40500/40500 [==============================] - 5s 120us/sample - loss: 0.0232 - accuracy: 0.9919 - val_loss: 0.0918 - val_accuracy: 0.9753\n",
      "Epoch 59/200\n",
      "40500/40500 [==============================] - 5s 123us/sample - loss: 0.0197 - accuracy: 0.9926 - val_loss: 0.0963 - val_accuracy: 0.9747\n",
      "Epoch 60/200\n",
      "40500/40500 [==============================] - 5s 119us/sample - loss: 0.0187 - accuracy: 0.9932 - val_loss: 0.0990 - val_accuracy: 0.9713\n",
      "Epoch 61/200\n",
      "40500/40500 [==============================] - 5s 135us/sample - loss: 0.0194 - accuracy: 0.9929 - val_loss: 0.0966 - val_accuracy: 0.9756\n",
      "Epoch 62/200\n",
      "40500/40500 [==============================] - 6s 138us/sample - loss: 0.0215 - accuracy: 0.9924 - val_loss: 0.0904 - val_accuracy: 0.9764\n",
      "Epoch 63/200\n",
      "40500/40500 [==============================] - 7s 180us/sample - loss: 0.0213 - accuracy: 0.9925 - val_loss: 0.0932 - val_accuracy: 0.9764\n",
      "Epoch 64/200\n",
      "40500/40500 [==============================] - 7s 161us/sample - loss: 0.0160 - accuracy: 0.9944 - val_loss: 0.0958 - val_accuracy: 0.9783\n",
      "Epoch 65/200\n",
      "40500/40500 [==============================] - 7s 164us/sample - loss: 0.0185 - accuracy: 0.9932 - val_loss: 0.1162 - val_accuracy: 0.9758\n",
      "Epoch 66/200\n",
      "40500/40500 [==============================] - 5s 133us/sample - loss: 0.0194 - accuracy: 0.9930 - val_loss: 0.0935 - val_accuracy: 0.9787\n",
      "Epoch 67/200\n",
      "40500/40500 [==============================] - 5s 134us/sample - loss: 0.0178 - accuracy: 0.9939 - val_loss: 0.1022 - val_accuracy: 0.9753\n",
      "Epoch 68/200\n",
      "40500/40500 [==============================] - 5s 115us/sample - loss: 0.0168 - accuracy: 0.9939 - val_loss: 0.1104 - val_accuracy: 0.9767\n",
      "Epoch 69/200\n",
      "40500/40500 [==============================] - 6s 141us/sample - loss: 0.0160 - accuracy: 0.9945 - val_loss: 0.0981 - val_accuracy: 0.9769\n",
      "Epoch 70/200\n",
      "40500/40500 [==============================] - 5s 128us/sample - loss: 0.0175 - accuracy: 0.9936 - val_loss: 0.0932 - val_accuracy: 0.9789\n",
      "Epoch 71/200\n",
      "40500/40500 [==============================] - 5s 133us/sample - loss: 0.0181 - accuracy: 0.9935 - val_loss: 0.0904 - val_accuracy: 0.9774\n",
      "Epoch 72/200\n",
      "40500/40500 [==============================] - 5s 113us/sample - loss: 0.0153 - accuracy: 0.9946 - val_loss: 0.0943 - val_accuracy: 0.9782\n",
      "Epoch 73/200\n",
      "40500/40500 [==============================] - 5s 116us/sample - loss: 0.0174 - accuracy: 0.9936 - val_loss: 0.0953 - val_accuracy: 0.9771\n",
      "Epoch 74/200\n",
      "40500/40500 [==============================] - 5s 128us/sample - loss: 0.0181 - accuracy: 0.9937 - val_loss: 0.0956 - val_accuracy: 0.9787\n",
      "Epoch 75/200\n",
      "40500/40500 [==============================] - 5s 133us/sample - loss: 0.0164 - accuracy: 0.9940 - val_loss: 0.0983 - val_accuracy: 0.9764\n",
      "Epoch 76/200\n",
      "40500/40500 [==============================] - 5s 127us/sample - loss: 0.0173 - accuracy: 0.9936 - val_loss: 0.0898 - val_accuracy: 0.9773\n",
      "Epoch 77/200\n",
      "40500/40500 [==============================] - 6s 150us/sample - loss: 0.0186 - accuracy: 0.9930 - val_loss: 0.0832 - val_accuracy: 0.9787\n",
      "Epoch 78/200\n",
      "40500/40500 [==============================] - 5s 120us/sample - loss: 0.0159 - accuracy: 0.9942 - val_loss: 0.0840 - val_accuracy: 0.9798\n",
      "Epoch 79/200\n",
      "40500/40500 [==============================] - 5s 122us/sample - loss: 0.0148 - accuracy: 0.9950 - val_loss: 0.0854 - val_accuracy: 0.9782\n",
      "Epoch 80/200\n",
      "40500/40500 [==============================] - 5s 116us/sample - loss: 0.0164 - accuracy: 0.9941 - val_loss: 0.0918 - val_accuracy: 0.9762\n",
      "Epoch 81/200\n",
      "40500/40500 [==============================] - 5s 112us/sample - loss: 0.0140 - accuracy: 0.9947 - val_loss: 0.0969 - val_accuracy: 0.9760\n",
      "Epoch 82/200\n",
      "40500/40500 [==============================] - 5s 131us/sample - loss: 0.0169 - accuracy: 0.9941 - val_loss: 0.0981 - val_accuracy: 0.9762\n",
      "Epoch 83/200\n",
      "40500/40500 [==============================] - 5s 123us/sample - loss: 0.0154 - accuracy: 0.9949 - val_loss: 0.0968 - val_accuracy: 0.9782\n",
      "Epoch 84/200\n",
      "40500/40500 [==============================] - 5s 133us/sample - loss: 0.0140 - accuracy: 0.9951 - val_loss: 0.0916 - val_accuracy: 0.9778\n",
      "Epoch 85/200\n",
      "40500/40500 [==============================] - 5s 119us/sample - loss: 0.0158 - accuracy: 0.9943 - val_loss: 0.0997 - val_accuracy: 0.9773\n",
      "Epoch 86/200\n",
      "40500/40500 [==============================] - 5s 133us/sample - loss: 0.0128 - accuracy: 0.9955 - val_loss: 0.0923 - val_accuracy: 0.9782\n",
      "Epoch 87/200\n",
      "40500/40500 [==============================] - 4s 109us/sample - loss: 0.0146 - accuracy: 0.9949 - val_loss: 0.0935 - val_accuracy: 0.9771\n",
      "Epoch 88/200\n",
      "40500/40500 [==============================] - 4s 111us/sample - loss: 0.0155 - accuracy: 0.9949 - val_loss: 0.0969 - val_accuracy: 0.9773\n",
      "Epoch 89/200\n",
      "40500/40500 [==============================] - 4s 109us/sample - loss: 0.0154 - accuracy: 0.9947 - val_loss: 0.0983 - val_accuracy: 0.9767\n",
      "Epoch 90/200\n",
      "40500/40500 [==============================] - 5s 113us/sample - loss: 0.0155 - accuracy: 0.9942 - val_loss: 0.0861 - val_accuracy: 0.9804\n",
      "Epoch 91/200\n",
      "40500/40500 [==============================] - 4s 111us/sample - loss: 0.0134 - accuracy: 0.9951 - val_loss: 0.0943 - val_accuracy: 0.9778\n",
      "Epoch 92/200\n",
      "40500/40500 [==============================] - 4s 111us/sample - loss: 0.0119 - accuracy: 0.9955 - val_loss: 0.1075 - val_accuracy: 0.9796\n",
      "Epoch 93/200\n",
      "40500/40500 [==============================] - 4s 110us/sample - loss: 0.0161 - accuracy: 0.9945 - val_loss: 0.0876 - val_accuracy: 0.9782\n",
      "Epoch 94/200\n",
      "40500/40500 [==============================] - 4s 109us/sample - loss: 0.0141 - accuracy: 0.9953 - val_loss: 0.0957 - val_accuracy: 0.9773\n",
      "Epoch 95/200\n",
      "40500/40500 [==============================] - 4s 109us/sample - loss: 0.0145 - accuracy: 0.9951 - val_loss: 0.1015 - val_accuracy: 0.9780\n",
      "Epoch 96/200\n",
      "40500/40500 [==============================] - 4s 110us/sample - loss: 0.0143 - accuracy: 0.9953 - val_loss: 0.0902 - val_accuracy: 0.9807\n",
      "Epoch 97/200\n",
      "40500/40500 [==============================] - 4s 109us/sample - loss: 0.0136 - accuracy: 0.9953 - val_loss: 0.0849 - val_accuracy: 0.9789\n",
      "Epoch 98/200\n",
      "40500/40500 [==============================] - 4s 109us/sample - loss: 0.0134 - accuracy: 0.9955 - val_loss: 0.0825 - val_accuracy: 0.9800\n",
      "Epoch 99/200\n",
      "40500/40500 [==============================] - 4s 109us/sample - loss: 0.0132 - accuracy: 0.9956 - val_loss: 0.0962 - val_accuracy: 0.9773\n",
      "Epoch 100/200\n",
      "40500/40500 [==============================] - 4s 110us/sample - loss: 0.0117 - accuracy: 0.9958 - val_loss: 0.0952 - val_accuracy: 0.9782\n",
      "Epoch 101/200\n",
      "40500/40500 [==============================] - 4s 110us/sample - loss: 0.0129 - accuracy: 0.9956 - val_loss: 0.1004 - val_accuracy: 0.9780\n",
      "Epoch 102/200\n",
      "40500/40500 [==============================] - 4s 109us/sample - loss: 0.0135 - accuracy: 0.9953 - val_loss: 0.0969 - val_accuracy: 0.9767\n",
      "Epoch 103/200\n",
      "40500/40500 [==============================] - 4s 109us/sample - loss: 0.0153 - accuracy: 0.9951 - val_loss: 0.0908 - val_accuracy: 0.9793\n",
      "Epoch 104/200\n",
      "40500/40500 [==============================] - 4s 108us/sample - loss: 0.0131 - accuracy: 0.9956 - val_loss: 0.0871 - val_accuracy: 0.9798\n",
      "Epoch 105/200\n",
      "40500/40500 [==============================] - 4s 108us/sample - loss: 0.0124 - accuracy: 0.9957 - val_loss: 0.1009 - val_accuracy: 0.9778\n",
      "Epoch 106/200\n",
      "40500/40500 [==============================] - 4s 110us/sample - loss: 0.0129 - accuracy: 0.9957 - val_loss: 0.0993 - val_accuracy: 0.9809\n",
      "Epoch 107/200\n"
     ]
    },
    {
     "name": "stdout",
     "output_type": "stream",
     "text": [
      "40500/40500 [==============================] - 4s 109us/sample - loss: 0.0113 - accuracy: 0.9961 - val_loss: 0.1001 - val_accuracy: 0.9793\n",
      "Epoch 108/200\n",
      "40500/40500 [==============================] - 4s 108us/sample - loss: 0.0144 - accuracy: 0.9952 - val_loss: 0.0971 - val_accuracy: 0.9802\n",
      "Epoch 109/200\n",
      "40500/40500 [==============================] - 4s 108us/sample - loss: 0.0137 - accuracy: 0.9955 - val_loss: 0.0926 - val_accuracy: 0.9800\n",
      "Epoch 110/200\n",
      "40500/40500 [==============================] - 4s 109us/sample - loss: 0.0118 - accuracy: 0.9961 - val_loss: 0.0922 - val_accuracy: 0.9796\n",
      "Epoch 111/200\n",
      "40500/40500 [==============================] - 4s 109us/sample - loss: 0.0132 - accuracy: 0.9958 - val_loss: 0.0894 - val_accuracy: 0.9791\n",
      "Epoch 112/200\n",
      "40500/40500 [==============================] - 4s 109us/sample - loss: 0.0119 - accuracy: 0.9960 - val_loss: 0.0968 - val_accuracy: 0.9793\n",
      "Epoch 113/200\n",
      "40500/40500 [==============================] - 4s 109us/sample - loss: 0.0130 - accuracy: 0.9954 - val_loss: 0.1044 - val_accuracy: 0.9804\n",
      "Epoch 114/200\n",
      "40500/40500 [==============================] - 4s 108us/sample - loss: 0.0117 - accuracy: 0.9961 - val_loss: 0.1014 - val_accuracy: 0.9807\n",
      "Epoch 115/200\n",
      "40500/40500 [==============================] - 4s 108us/sample - loss: 0.0137 - accuracy: 0.9954 - val_loss: 0.0933 - val_accuracy: 0.9818\n",
      "Epoch 116/200\n",
      "40500/40500 [==============================] - 4s 109us/sample - loss: 0.0110 - accuracy: 0.9960 - val_loss: 0.0895 - val_accuracy: 0.9798\n",
      "Epoch 117/200\n",
      "40500/40500 [==============================] - 4s 110us/sample - loss: 0.0119 - accuracy: 0.9956 - val_loss: 0.0959 - val_accuracy: 0.9802\n",
      "Epoch 118/200\n",
      "40500/40500 [==============================] - 4s 109us/sample - loss: 0.0128 - accuracy: 0.9955 - val_loss: 0.0932 - val_accuracy: 0.9780\n",
      "Epoch 119/200\n",
      "40500/40500 [==============================] - 4s 109us/sample - loss: 0.0127 - accuracy: 0.9957 - val_loss: 0.0911 - val_accuracy: 0.9784\n",
      "Epoch 120/200\n",
      "40500/40500 [==============================] - 4s 109us/sample - loss: 0.0121 - accuracy: 0.9961 - val_loss: 0.0993 - val_accuracy: 0.9778\n",
      "Epoch 121/200\n",
      "40500/40500 [==============================] - 4s 108us/sample - loss: 0.0128 - accuracy: 0.9955 - val_loss: 0.0915 - val_accuracy: 0.9818\n",
      "Epoch 122/200\n",
      "40500/40500 [==============================] - 4s 109us/sample - loss: 0.0119 - accuracy: 0.9956 - val_loss: 0.0900 - val_accuracy: 0.9809\n",
      "Epoch 123/200\n",
      "40500/40500 [==============================] - 4s 109us/sample - loss: 0.0111 - accuracy: 0.9964 - val_loss: 0.0974 - val_accuracy: 0.9793\n",
      "Epoch 124/200\n",
      "40500/40500 [==============================] - 4s 109us/sample - loss: 0.0107 - accuracy: 0.9964 - val_loss: 0.0875 - val_accuracy: 0.9807\n",
      "Epoch 125/200\n",
      "40500/40500 [==============================] - 4s 109us/sample - loss: 0.0108 - accuracy: 0.9964 - val_loss: 0.0939 - val_accuracy: 0.9804\n",
      "Epoch 126/200\n",
      "40500/40500 [==============================] - 4s 109us/sample - loss: 0.0095 - accuracy: 0.9969 - val_loss: 0.0987 - val_accuracy: 0.9789\n",
      "Epoch 127/200\n",
      "40500/40500 [==============================] - 5s 126us/sample - loss: 0.0115 - accuracy: 0.9960 - val_loss: 0.0939 - val_accuracy: 0.9793\n",
      "Epoch 128/200\n",
      "40500/40500 [==============================] - 6s 141us/sample - loss: 0.0131 - accuracy: 0.9958 - val_loss: 0.0870 - val_accuracy: 0.9816\n",
      "Epoch 129/200\n",
      "40500/40500 [==============================] - 5s 133us/sample - loss: 0.0104 - accuracy: 0.9966 - val_loss: 0.0946 - val_accuracy: 0.9787\n",
      "Epoch 130/200\n",
      "40500/40500 [==============================] - 6s 143us/sample - loss: 0.0106 - accuracy: 0.9964 - val_loss: 0.0881 - val_accuracy: 0.9809\n",
      "Epoch 131/200\n",
      "40500/40500 [==============================] - 6s 157us/sample - loss: 0.0116 - accuracy: 0.9960 - val_loss: 0.0838 - val_accuracy: 0.9813\n",
      "Epoch 132/200\n",
      "40500/40500 [==============================] - 6s 137us/sample - loss: 0.0113 - accuracy: 0.9959 - val_loss: 0.0889 - val_accuracy: 0.9804\n",
      "Epoch 133/200\n",
      "40500/40500 [==============================] - 5s 116us/sample - loss: 0.0099 - accuracy: 0.9968 - val_loss: 0.0855 - val_accuracy: 0.9816\n",
      "Epoch 134/200\n",
      "40500/40500 [==============================] - 5s 112us/sample - loss: 0.0099 - accuracy: 0.9966 - val_loss: 0.0875 - val_accuracy: 0.9811\n",
      "Epoch 135/200\n",
      "40500/40500 [==============================] - 4s 109us/sample - loss: 0.0110 - accuracy: 0.9965 - val_loss: 0.0873 - val_accuracy: 0.9802\n",
      "Epoch 136/200\n",
      "40500/40500 [==============================] - 5s 125us/sample - loss: 0.0096 - accuracy: 0.9968 - val_loss: 0.0923 - val_accuracy: 0.9818\n",
      "Epoch 137/200\n",
      "40500/40500 [==============================] - 5s 120us/sample - loss: 0.0108 - accuracy: 0.9964 - val_loss: 0.0919 - val_accuracy: 0.9793\n"
     ]
    }
   ],
   "source": [
    "model = make_model(final.shape[1])\n",
    "history = model.fit(X_train, y_train, batch_size= 60 , epochs = 200, verbose=1, validation_data = (X_val, y_val), callbacks = callbacks)\n",
    "\n"
   ]
  },
  {
   "cell_type": "markdown",
   "metadata": {},
   "source": [
    "# Model performance"
   ]
  },
  {
   "cell_type": "code",
   "execution_count": 14,
   "metadata": {},
   "outputs": [
    {
     "name": "stdout",
     "output_type": "stream",
     "text": [
      "Validation loss: 0.09188126401005624\n",
      "Validation accuracy: 0.97933334\n"
     ]
    }
   ],
   "source": [
    "#print validation accuracy and loss accuracy\n",
    "score = model.evaluate(X_val, y_val, verbose=0)\n",
    "print('Validation loss:', score[0]) \n",
    "print('Validation accuracy:', score[1])"
   ]
  },
  {
   "cell_type": "code",
   "execution_count": 15,
   "metadata": {},
   "outputs": [
    {
     "name": "stdout",
     "output_type": "stream",
     "text": [
      "dict_keys(['loss', 'accuracy', 'val_loss', 'val_accuracy'])\n"
     ]
    },
    {
     "data": {
      "image/png": "[encoded data removed]",
      "text/plain": [
       "<Figure size 432x288 with 1 Axes>"
      ]
     },
     "metadata": {
      "needs_background": "light"
     },
     "output_type": "display_data"
    },
    {
     "data": {
      "image/png": "[encoded data removed]",
      "text/plain": [
       "<Figure size 432x288 with 1 Axes>"
      ]
     },
     "metadata": {
      "needs_background": "light"
     },
     "output_type": "display_data"
    }
   ],
   "source": [
    "#plot the validation accuracy and validation loss against validation accuracy and training accuracy\n",
    "print(history.history.keys())\n",
    "\n",
    "#  \"Accuracy\"\n",
    "plt.plot(history.history['accuracy'])\n",
    "plt.plot(history.history['val_accuracy'])\n",
    "plt.title('model accuracy')\n",
    "plt.ylabel('accuracy')\n",
    "plt.xlabel('epoch')\n",
    "plt.legend(['train', 'validation'], loc='upper left')\n",
    "plt.show()\n",
    "\n",
    "# \"Loss\"\n",
    "plt.plot(history.history['loss'])\n",
    "plt.plot(history.history['val_loss'])\n",
    "plt.title('model loss')\n",
    "plt.ylabel('loss')\n",
    "plt.xlabel('epoch')\n",
    "plt.legend(['train', 'validation'], loc='upper left')\n",
    "plt.show()\n"
   ]
  },
  {
   "cell_type": "code",
   "execution_count": 16,
   "metadata": {},
   "outputs": [],
   "source": [
    "# examine the class distribution\n",
    "match_tr = pd.DataFrame(match_train)\n",
    "def labelling (frame): # this function is to change the True/False label to 1/0\n",
    "    if frame == False:\n",
    "        return 0\n",
    "    else: \n",
    "        return 1"
   ]
  },
  {
   "cell_type": "code",
   "execution_count": 17,
   "metadata": {},
   "outputs": [],
   "source": [
    "match_tr['label'] = match_tr[0].apply(labelling)"
   ]
  },
  {
   "cell_type": "code",
   "execution_count": 18,
   "metadata": {},
   "outputs": [
    {
     "data": {
      "text/plain": [
       "0    40461\n",
       "1     4539\n",
       "Name: label, dtype: int64"
      ]
     },
     "execution_count": 18,
     "metadata": {},
     "output_type": "execute_result"
    }
   ],
   "source": [
    "match_tr['label'].value_counts() \n",
    "# true ~= 10% false, clearly class imbalance so we should keep an eye on this when evaluting"
   ]
  },
  {
   "cell_type": "code",
   "execution_count": 19,
   "metadata": {},
   "outputs": [
    {
     "data": {
      "text/plain": [
       "array([[3985,   39],\n",
       "       [  54,  422]])"
      ]
     },
     "execution_count": 19,
     "metadata": {},
     "output_type": "execute_result"
    }
   ],
   "source": [
    "#make confusion matrix \n",
    "from sklearn.metrics import confusion_matrix\n",
    "\n",
    "y_pred = model.predict(X_val)\n",
    "\n",
    "y_pred = y_pred.argmax(axis = -1)\n",
    "y_vall  = y_val.argmax(axis = -1)\n",
    "\n",
    "confusion_matrix(y_vall, y_pred, labels=None, sample_weight=None)"
   ]
  },
  {
   "cell_type": "code",
   "execution_count": 20,
   "metadata": {},
   "outputs": [
    {
     "name": "stdout",
     "output_type": "stream",
     "text": [
      "Recall for class 1 is 0.8865546218487395\n",
      "Recall for class 0 is 0.9903081510934394\n",
      "Precision for class 1 is 0.9154013015184381\n",
      "Precision for class 0 is 0.9866303540480317\n"
     ]
    }
   ],
   "source": [
    "#calculate the recall and precision , because we do not know which class is considered the thing wish to find we will\n",
    "#calculate precision and recall for both classes (0 and 1)\n",
    "r1 = recall_score(y_vall, y_pred, labels=None, pos_label=1, average='binary', sample_weight=None)\n",
    "r0 = recall_score(y_vall, y_pred, labels=None, pos_label=0, average='binary', sample_weight=None)\n",
    "p1 = precision_score(y_vall, y_pred, labels=None, pos_label=1, average='binary', sample_weight=None)\n",
    "p0  = precision_score(y_vall, y_pred, labels=None, pos_label=0, average='binary', sample_weight=None)\n",
    "print('Recall for class 1 is {}'.format(r1))\n",
    "print('Recall for class 0 is {}'.format(r0))\n",
    "print('Precision for class 1 is {}'.format(p1))\n",
    "print('Precision for class 0 is {}'.format(p0))\n"
   ]
  }
 ],
 "metadata": {
  "kernelspec": {
   "display_name": "Python 3",
   "language": "python",
   "name": "python3"
  },
  "language_info": {
   "codemirror_mode": {
    "name": "ipython",
    "version": 3
   },
   "file_extension": ".py",
   "mimetype": "text/x-python",
   "name": "python",
   "nbconvert_exporter": "python",
   "pygments_lexer": "ipython3",
   "version": "3.7.1"
  }
 },
 "nbformat": 4,
 "nbformat_minor": 2
}
